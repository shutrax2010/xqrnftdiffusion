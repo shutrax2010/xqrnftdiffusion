{
  "cells": [
    {
      "cell_type": "code",
      "execution_count": null,
      "metadata": {
        "id": "gxWGbcncPfIS"
      },
      "outputs": [],
      "source": [
        "!pip install diffusers transformers ftfy accelerate"
      ]
    },
    {
      "cell_type": "code",
      "execution_count": null,
      "metadata": {
        "colab": {
          "background_save": true
        },
        "id": "RlsU651_Pf8e"
      },
      "outputs": [],
      "source": [
        "import torch\n",
        "import requests\n",
        "from PIL import Image\n",
        "from io import BytesIO\n",
        "from diffusers import StableDiffusionImg2ImgPipeline\n",
        "\n",
        "#model_id = \"runwayml/stable-diffusion-v1-5\"\n",
        "model_id = \"nitrosocke/Ghibli-Diffusion\"\n",
        "\n",
        "device = \"cuda\"\n",
        "\n",
        "pipe = StableDiffusionImg2ImgPipeline.from_pretrained(model_id, torch_dtype=torch.float16).to(\n",
        "    device\n",
        ")"
      ]
    },
    {
      "cell_type": "code",
      "execution_count": null,
      "metadata": {
        "id": "to3EVIJuPkNN"
      },
      "outputs": [],
      "source": [
        "import os\n",
        "\n",
        "qfolder = \"qr\"\n",
        "if not os.path.exists(qfolder):\n",
        "  os.mkdir(qfolder)\n",
        "\n",
        "folder = \"outputs\"\n",
        "if not os.path.exists(folder):\n",
        "  os.mkdir(folder)"
      ]
    },
    {
      "cell_type": "code",
      "source": [
        "!pip install qrcode\n",
        "!pip install pyngrok\n",
        "!pip install flask_cors\n",
        "!pip install requests\n",
        "!pip install Flask\n",
        "\n",
        "import qrcode\n",
        "import datetime\n",
        "\n",
        "now = datetime.datetime.now()\n",
        "d = now.strftime('%Y%m%d%H%M%S')"
      ],
      "metadata": {
        "id": "3eFSDp60GY5s"
      },
      "execution_count": null,
      "outputs": []
    },
    {
      "cell_type": "code",
      "source": [
        "# QRコード作成\n",
        "def createQr(qrText):\n",
        "  qr = qrcode.QRCode()\n",
        "  qr.add_data(qrText)\n",
        "  qr.make()\n",
        "  qrimg = qr.make_image()\n",
        "  qrpath = f'qr/qr_{d}.png'\n",
        "  qrimg.save(qrpath)\n",
        "\n",
        "  return qrpath"
      ],
      "metadata": {
        "id": "uJiHDrxJGKLr"
      },
      "execution_count": null,
      "outputs": []
    },
    {
      "cell_type": "code",
      "source": [
        "# 画像生成\n",
        "def genImg(qrImg, prompt):\n",
        "  qrImg.thumbnail((512, 512))\n",
        "  n_prompt = \"(worst quality:1.4), (low quality:1.4), (monochrome:1.3), NSFW\"\n",
        "  n_steps = 30\n",
        "\n",
        "  # 元の画像をどのくらい参照するか\n",
        "  denoising_strength=0.45\n",
        "\n",
        "  image = pipe(\n",
        "      prompt=prompt,\n",
        "      negative_prompt=n_prompt,\n",
        "      image=qrImg,\n",
        "      strength=denoising_strength,\n",
        "  #    num_inference_steps=n_steps,\n",
        "      guidance_scale=7.5\n",
        "      ).images[0]\n",
        "\n",
        "  image.save(f'outputs/output_{d}.png')\n",
        "\n",
        "  return image"
      ],
      "metadata": {
        "id": "Bjfvx7eXGj3l"
      },
      "execution_count": null,
      "outputs": []
    },
    {
      "cell_type": "code",
      "source": [
        "# Test\n",
        "qr_data = \"test test2\"\n",
        "prompt = \"Ghibli style beautiful mountains and shooting stars at the night.\"\n",
        "\n",
        "qrpath = createQr(qr_data)\n",
        "qrimg = Image.open(qrpath).convert(\"RGB\")\n",
        "qrimg\n",
        "\n",
        "image = genImg(qrimg, prompt)\n",
        "image"
      ],
      "metadata": {
        "id": "bj1sz-urHBii"
      },
      "execution_count": null,
      "outputs": []
    },
    {
      "cell_type": "code",
      "source": [
        "import os\n",
        "import requests\n",
        "import io\n",
        "import json\n",
        "from flask import Flask, send_file, render_template, request, jsonify\n",
        "from flask_cors import CORS\n",
        "from pyngrok import ngrok, conf\n",
        "\n",
        "# ngrokトークンを設定\n",
        "conf.get_default().auth_token = \"2iSGz2xdhjgsTOClek6eMrjpT6F_7msYimGkAoqEEbhwQcTQt\"\n",
        "\n",
        "# ngrokで公開するURL\n",
        "NGROK_DOMAIN = \"wallaby-more-pony.ngrok-free.app\"\n",
        "\n",
        "app = Flask(__name__)\n",
        "CORS(app)\n",
        "\n",
        "@app.route('/', methods=['POST'])\n",
        "def index():\n",
        "  json_data = request.json\n",
        "  print(json_data)\n",
        "  qrText = json_data[\"qrText\"]\n",
        "  imgPrompt = json_data[\"imgPrompt\"]\n",
        "\n",
        "  # QRコード生成\n",
        "  qrpath = createQr(qrText)\n",
        "  qrimg = Image.open(qrpath).convert(\"RGB\")\n",
        "  print(\"+++++++++++++++++++++++++++\")\n",
        "\n",
        "  # 画像生成\n",
        "  image = genImg(qrimg, imgPrompt)\n",
        "#  image\n",
        "  print(\" ========================== \")\n",
        "\n",
        "  img_byte_array = io.BytesIO()\n",
        "  image.save(img_byte_array, format='PNG')\n",
        "  img_byte_array.seek(0)\n",
        "\n",
        "\t# IPFSへのファイルのピン留め（アップロード）\n",
        "  url = \"https://api.pinata.cloud/pinning/pinFileToIPFS\"\n",
        "  files = {'file': ('qrcode.png', img_byte_array, 'image/png')}\n",
        "  headers = {\n",
        "\t\t'pinata_api_key': \"ef4b2776bda587ee59df\",\n",
        "\t\t'pinata_secret_api_key': \"668688893b3ee64dcfdcc2b8ba801ecda95d916fdc307bd21f8d8351be86940c\"\n",
        "\t}\n",
        "  response = requests.post(url, files=files, headers=headers)\n",
        "\n",
        "\t# 一時ファイルを削除\n",
        "  img_byte_array.close()\n",
        "\n",
        "  getUrl = 'ipfs://' + response.json()[\"IpfsHash\"]\n",
        "  print(getUrl)\n",
        "\n",
        "  return getUrl\n",
        "\n",
        "if __name__ == \"__main__\":\n",
        "  public_url = ngrok.connect(5000, hostname=NGROK_DOMAIN)\n",
        "  print(f\"ngrok URL: {public_url}\")\n",
        "  app.run(port=5000)"
      ],
      "metadata": {
        "id": "9vIAd8n8huzJ"
      },
      "execution_count": null,
      "outputs": []
    }
  ],
  "metadata": {
    "accelerator": "GPU",
    "colab": {
      "gpuType": "T4",
      "provenance": []
    },
    "kernelspec": {
      "display_name": "Python 3",
      "name": "python3"
    },
    "language_info": {
      "name": "python"
    }
  },
  "nbformat": 4,
  "nbformat_minor": 0
}